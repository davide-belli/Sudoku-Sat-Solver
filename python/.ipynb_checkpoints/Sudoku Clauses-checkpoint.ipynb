{
 "cells": [
  {
   "cell_type": "code",
   "execution_count": 73,
   "metadata": {
    "collapsed": true
   },
   "outputs": [],
   "source": [
    "s=\"\"\n",
    "count=0\n",
    "var=9*9*9"
   ]
  },
  {
   "cell_type": "code",
   "execution_count": 74,
   "metadata": {
    "collapsed": true
   },
   "outputs": [],
   "source": [
    "#almeno_un_numero_per_cella\n",
    "for i in range(1,10):\n",
    "    for j in range(1,10):\n",
    "        for d in range(1,10):\n",
    "            s+=str(i)+str(j)+str(d)+\" \"\n",
    "        s+=\"0\\n\"\n",
    "        count+=1"
   ]
  },
  {
   "cell_type": "code",
   "execution_count": 75,
   "metadata": {
    "collapsed": true
   },
   "outputs": [],
   "source": [
    "#al_massimo_un_numero_per_cella\n",
    "for i in range(1,10):\n",
    "    for j in range(1,10):\n",
    "        for d in range(1,10):\n",
    "            for k in range(d+1,10):\n",
    "                s+=\"-\"+str(i)+str(j)+str(d)+\" \"\"-\"+str(i)+str(j)+str(k)+\" \"\n",
    "                s+=\"0\\n\"    \n",
    "                count+=1"
   ]
  },
  {
   "cell_type": "code",
   "execution_count": 76,
   "metadata": {
    "collapsed": true
   },
   "outputs": [],
   "source": [
    "#numeri_diversi_sulla_colonna\n",
    "for c in range(1,10):\n",
    "    for i in range(1,10):\n",
    "        for j in range(i+1,10):\n",
    "            for d in range(1,10):\n",
    "                s+=\"-\"+str(i)+str(c)+str(d)+\" \"\"-\"+str(j)+str(c)+str(d)+\" \"\n",
    "                s+=\"0\\n\" \n",
    "                count+=1   "
   ]
  },
  {
   "cell_type": "code",
   "execution_count": 77,
   "metadata": {
    "collapsed": true
   },
   "outputs": [],
   "source": [
    "#numeri_diversi_sulla_riga\n",
    "for r in range(1,10):\n",
    "    for i in range(1,10):\n",
    "        for j in range(i+1,10):\n",
    "            for d in range(1,10):\n",
    "                s+=\"-\"+str(r)+str(i)+str(d)+\" \"\"-\"+str(r)+str(i)+str(d)+\" \"\n",
    "                s+=\"0\\n\"\n",
    "                count+=1    "
   ]
  },
  {
   "cell_type": "code",
   "execution_count": 78,
   "metadata": {
    "collapsed": true
   },
   "outputs": [],
   "source": [
    "#numeri_diversi_sulla_riga\n",
    "for a in range(0,3):\n",
    "    for b in range(0,3):\n",
    "        for d in range(1,10):\n",
    "            for x in range(0,8):\n",
    "                for y in range(x+1,9):\n",
    "                    i=x//3+1\n",
    "                    j=x%3+1\n",
    "                    k=y//3+1\n",
    "                    l=y%3+1\n",
    "                    #print(i,\" \",j,\" \",k,\" \",l)\n",
    "                    s+=\"-\"+str(3*a+i)+str(3*b+j)+str(d)+\" \"\"-\"+str(3*a+k)+str(3*b+l)+str(d)+\" \"\n",
    "                    s+=\"0\\n\"  \n",
    "                    count+=1"
   ]
  },
  {
   "cell_type": "code",
   "execution_count": 79,
   "metadata": {
    "collapsed": true
   },
   "outputs": [],
   "source": [
    "#ogni_numero_nella_colonna\n",
    "for d in range(1,10):\n",
    "    for c in range(1,10):\n",
    "        for r in range(1,10):\n",
    "            s+=str(r)+str(c)+str(d)+\" \"\n",
    "        s+=\"0\\n\"\n",
    "        count+=1"
   ]
  },
  {
   "cell_type": "code",
   "execution_count": 80,
   "metadata": {
    "collapsed": true
   },
   "outputs": [],
   "source": [
    "#ogni_numero_nella_colonna\n",
    "for d in range(1,10):\n",
    "    for r in range(1,10):\n",
    "        for c in range(1,10):\n",
    "            s+=str(r)+str(c)+str(d)+\" \"\n",
    "        s+=\"0\\n\"\n",
    "        count+=1"
   ]
  },
  {
   "cell_type": "code",
   "execution_count": 81,
   "metadata": {
    "collapsed": true
   },
   "outputs": [],
   "source": [
    "#x-wing_righe\n",
    "for n in range(1,10):\n",
    "    for r1 in range(1,10):\n",
    "        for r2 in range(r1+1,10):\n",
    "            for c1 in range(1,10):\n",
    "                for c2 in range(c1+1,10):\n",
    "                    for c in range(1,10):\n",
    "                        if(c!=c1 and c!=c2):\n",
    "                            for t in [r1,r2]:\n",
    "                                s+=\"-\"+str(t)+str(c)+str(n)+\" \"\n",
    "                                for r in range(1,10):\n",
    "                                    if(r!=r1 and r!=r2):\n",
    "                                        s+=str(r)+str(c1)+str(n)+\" \"\n",
    "                                        s+=str(r)+str(c2)+str(n)+\" \"\n",
    "                                s+=\"0\\n\"\n",
    "                                count+=1"
   ]
  },
  {
   "cell_type": "code",
   "execution_count": 82,
   "metadata": {
    "collapsed": true
   },
   "outputs": [],
   "source": [
    "#x-wing_colonne\n",
    "for n in range(1,10):\n",
    "    for r1 in range(1,10):\n",
    "        for r2 in range(r1+1,10):\n",
    "            for c1 in range(1,10):\n",
    "                for c2 in range(c1+1,10):\n",
    "                    for r in range(1,10):\n",
    "                        if(r!=r1 and r!=r2):\n",
    "                            for t in [c1,c2]:\n",
    "                                s+=\"-\"+str(r)+str(t)+str(n)+\" \"\n",
    "                                for c in range(1,10):\n",
    "                                    if(c!=r1 and c!=r2):\n",
    "                                        s+=str(r1)+str(c)+str(n)+\" \"\n",
    "                                        s+=str(r2)+str(c)+str(n)+\" \"\n",
    "                                s+=\"0\\n\"\n",
    "                                count+=1"
   ]
  },
  {
   "cell_type": "code",
   "execution_count": null,
   "metadata": {
    "collapsed": true
   },
   "outputs": [],
   "source": [
    "for d in range(1, 10):\n",
    "    for a in range(3):\n",
    "        for b in range(3):\n",
    "            for x in range(8):\n",
    "                for y in range(x+1, 9):\n",
    "                    i, j = x//3, x % 3\n",
    "                    k, l = y//3, y % 3\n",
    "                    \n",
    "                    s += '-' + str(3*a +i+1) + str(3*b+j+1) + str(d) + ' -' + str(3*a +k+1) + str(3*b+l+1) + str(d) + ' 0\\n'\n",
    "                    count += 1"
   ]
  },
  {
   "cell_type": "code",
   "execution_count": null,
   "metadata": {
    "collapsed": true
   },
   "outputs": [],
   "source": [
    "for d in range(1, 10):\n",
    "    for a in range(3):\n",
    "        for b in range(3):\n",
    "            for x in range(3):\n",
    "                for y in range(3):\n",
    "                    s += str(3*a +x+1) + str(3*b+y+1) + str(d) + \" \"\n",
    "                    \n",
    "            s += \"0\\n\"\n",
    "            count += 1"
   ]
  },
  {
   "cell_type": "code",
   "execution_count": null,
   "metadata": {
    "collapsed": true
   },
   "outputs": [],
   "source": [
    "for v in range(1, 10):\n",
    "    for a in range(3):\n",
    "        for b in range(3):\n",
    "            for c in range(3):\n",
    "                for l in range(1, 10):\n",
    "                    if l not in range(3*a+1, 3*a+4):\n",
    "                        for d in range(3):\n",
    "                            if d != c:\n",
    "                                for r in range(3):\n",
    "                                    s += str(3*a +r+1) + str(3*b+d+1) + str(v) + \" -\" + str(l) + str(3*b+c+1) + str(v) + \" \"\n",
    "                        s += \"0\\n\"\n",
    "                        count += 1"
   ]
  },
  {
   "cell_type": "code",
   "execution_count": null,
   "metadata": {
    "collapsed": true
   },
   "outputs": [],
   "source": [
    "for v in range(1, 10):\n",
    "    for a in range(3):\n",
    "        for b in range(3):\n",
    "            for r in range(3):\n",
    "                for l in range(1, 10):\n",
    "                    if l not in range(3*b+1, 3*b+4):\n",
    "                        for d in range(3):\n",
    "                            if d != r:\n",
    "                                for c in range(3):\n",
    "                                    s += str(3*a +d+1) + str(3*b+c+1) + str(v) + \" -\" + str(3*a+r+1) + str(l) + str(v) + \" \"\n",
    "                        s += \"0\\n\"\n",
    "                        count += 1"
   ]
  },
  {
   "cell_type": "code",
   "execution_count": 83,
   "metadata": {},
   "outputs": [
    {
     "name": "stdout",
     "output_type": "stream",
     "text": [
      "338499\n",
      "729\n"
     ]
    }
   ],
   "source": [
    "print(count)\n",
    "print(var)"
   ]
  },
  {
   "cell_type": "code",
   "execution_count": 84,
   "metadata": {
    "collapsed": true
   },
   "outputs": [],
   "source": [
    "with open(\"test.txt\", \"a\") as out:\n",
    "    out.write(\"c Example CNF format file\\n\")\n",
    "    out.write(\"c\\n\")\n",
    "    out.write(\"p cnf \"+str(var)+\" \"+str(count)+\"\\n\")\n",
    "    out.write(s)\n",
    "    out.close()"
   ]
  },
  {
   "cell_type": "code",
   "execution_count": null,
   "metadata": {
    "collapsed": true
   },
   "outputs": [],
   "source": []
  }
 ],
 "metadata": {
  "kernelspec": {
   "display_name": "Python 3",
   "language": "python",
   "name": "python3"
  },
  "language_info": {
   "codemirror_mode": {
    "name": "ipython",
    "version": 3
   },
   "file_extension": ".py",
   "mimetype": "text/x-python",
   "name": "python",
   "nbconvert_exporter": "python",
   "pygments_lexer": "ipython3",
   "version": "3.6.2"
  }
 },
 "nbformat": 4,
 "nbformat_minor": 2
}
